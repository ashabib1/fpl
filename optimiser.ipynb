{
 "cells": [
  {
   "attachments": {},
   "cell_type": "markdown",
   "metadata": {},
   "source": [
    "# FPL Project\n",
    "\n",
    "## Introduction to the English Premier League\n",
    "\n",
    "The English Premier League (EPL), better known as the Premier League, is the top-flight professional football league in England. In addition to being the most competitive football league in the world according to the UEFA Coefficient Ranking, the Premier League is the most-watched sports league in the world, with millions of fans tuning in to watch the weekly matches from all over the globe.\n",
    "\n",
    "The league consists of twenty teams from all over England, and the season generally runs from August to May. Every team plays every other team twice, once at home and once away, resulting in a total of 38 games. Winning a game gets the team three points, a draw gets one and a loss gets zero. At the end of the season, the team with the highest number of points are crowned the champions. The three teams with the lowest number of points get relegated to the second-tier of English football, also known as the Championship for the following season. Similarly, three of the best teams in the Championship get promoted into the Premier League. Since gaining points is critical for both the top and the bottom of the league, the vast majority of games are fiercely competitive.\n",
    "\n",
    "The Premier League is the home of many important and famous football clubs, including Chelsea, Manchester United, Manchester City, Arsenal and Liverpool, each of whom were champions at least once in the past twenty years. The Premier League has also helped develop many of the world's best players, including Cristiano Ronaldo, Luis Suarez, Thierry Henry and Wayne Rooney.\n",
    "\n",
    "Overall, the Premier League is a powerhouse in world football, offering fans high-quality football, competitive matches, and features some of the biggest and best clubs in the world. Its global popularity is a testament to the league's influence, and it will undoubtedly attract the world's best players for years to come."
   ]
  },
  {
   "attachments": {},
   "cell_type": "markdown",
   "metadata": {},
   "source": [
    "## Introduction to Fantasy Premier League\n",
    "\n",
    "Fantasy Premier League (FPL) is an online strategy game that casts the player in the role of a Fantasy manager. Each manager assembles a virtual team of real-life football players in the English Premier League and score points based on their real-life performance in their Premier League matches. The goal for each manager in FPL is to maximise their points by the end of the season.\n",
    "\n",
    "At the beginning of the season, managers are allocated a budget of £100 million to build their team of 15 players. Prices of players are assigned at the beginning of the season, then they fluctuate throughout the season based on their performance.\n",
    "\n",
    "Points are awarded to players for goals, assists, saves, clean sheets as well as bonus points, which are awarded to the top-performing individuals in a match. Points can also be taken away for yellow cards, red cards and goals conceded. A team's points for the match round or \"gameweek\" will be scored by the starting XI. There are 38 gameweeks every season; one for each match.\n"
   ]
  },
  {
   "attachments": {},
   "cell_type": "markdown",
   "metadata": {},
   "source": [
    "## Project Goal\n",
    "\n",
    "FPL is a popular game amongst fans of the English Premier League, as Fantasy managers attempt to build an optimal team of players every gameweek. Fantasy managers can only guess the optimal combination of players, because they must pick their teams before any real-life Premier League games occur. In other words, there is *uncertainty* regarding which players will perform the best. For this project, we will be removing this uncertainty by using the FPL dataset of the 2016-2017 season, which has already recorded the number of points each player attains for every gameweek.\n",
    "\n",
    "The goal of this project is to find the optimal combination of players over the 38 week 2016-2017 season that maximises the total number of FPL points. This project can be considered an optimisation problem, because we are attempting to maximise the total number of points of our team in the 2016-2017 season, whilst adhering to a multitude of different constraints."
   ]
  },
  {
   "attachments": {},
   "cell_type": "markdown",
   "metadata": {},
   "source": [
    "## Constraints & Extra Rules\n",
    "\n",
    "The main constraints that we will be analysing are:\n",
    "\n",
    "1. Position Constraint: Each manager must select a team of 15 players, consisting of 2 goalkeepers, 5 defenders, 5 midfielders, and 3 forwards.\n",
    "\n",
    "2. Price Constraint: The total price of the 15 players cannot exceed £100 million at the beginning of the season.\n",
    "\n",
    "3. Formation Constraint: The starting XI of each team must play with a formation of 1 goalkeeper, 3-5 defeneders, 2-5 midfielders, and 1-3 forwards. The remaining four players would be on the bench, but the chosen formation can change before each gameweek.\n",
    "\n",
    "4. Team Constraint: Each manager can have a maximum of three players from the same Premier League team at any point in the season.\n",
    "\n",
    "5. Transfer Constraint: Each manager is allowed one free transfer per week. Any subsequent transfers results in a four-point deduction for that gameweek. A manager can transfer or \"exchange\" any of their players for a different player, given that the price constraint still holds.\n",
    "\n",
    "These constraints will make the calculation of the optimal team more difficult, as we cannot just pick the highest-scroing players from each gameweek. We can classify these constraints into \"team-building constraints\" and a \"team-evaluating constraint\". The first four of these constraints interfere with the building of the team, in the sense that the team would be invalid of they are not satisfied. The last constraint, the transfer constraint is considered a \"team-evaluating constraint\" because it does not interfere with the building of the team. Having more transfers does not invalidate a team, but rather \"punishes\" teams for transfering more players by decreasing the total number of points\n",
    "\n",
    "There are some extra rules in FPL that can help managers increase their points total. Captaincy should be assigned every week and the Wildcard can be used twice a week. The three chips can only be used in a single gameweek of choice. Here are some more in depth descriptions of the rules:\n",
    "\n",
    "1. Captaincy: One player every week can be named captain. Their points are doubled for that gameweek.\n",
    "\n",
    "2. Bench Boost Chip: The points scored by the bench players in the next gameweek are included in the points total.\n",
    "\n",
    "3. Free Hit Chip: Make unlimited free transfers for a single gameweek. At the next deadline, the squad is returned to how it was at the start of the gameweek.\n",
    "\n",
    "4. Triple Captain Chip: The captain points are tripled instead of doubled for that gameweek.\n",
    "\n",
    "5. Wildcard: All transfers in the gameweek are free of charge. Each manager gets two wildcards; one in the first half of the season and one in the second half of the season."
   ]
  },
  {
   "attachments": {},
   "cell_type": "markdown",
   "metadata": {},
   "source": [
    "## Introduction to the Dataset\n",
    "\n",
    "In order to find the optimal FPL team, we need to use a dataset that includes the gameweek-to-gameweek performances of all players. We decided to use [this](https://github.com/vaastav/Fantasy-Premier-League) dataset compiled by Vaastav Anand that includes comprehensive statistics for an array of different features for every player per gameweek, including 'minutes played', 'passes completed', 'shots off target' and even 'errors leading to a goal attempt'. Key to this project, we will only be needing to use the 'name', 'total points', 'price', 'position', 'team' and 'player ID' features. These features will be key to ensuring that all of the constraints are satisfied. We can take a look at a snippet of the dataset below:"
   ]
  },
  {
   "cell_type": "code",
   "execution_count": 20,
   "metadata": {},
   "outputs": [
    {
     "data": {
      "text/html": [
       "<div>\n",
       "<style scoped>\n",
       "    .dataframe tbody tr th:only-of-type {\n",
       "        vertical-align: middle;\n",
       "    }\n",
       "\n",
       "    .dataframe tbody tr th {\n",
       "        vertical-align: top;\n",
       "    }\n",
       "\n",
       "    .dataframe thead th {\n",
       "        text-align: right;\n",
       "    }\n",
       "</style>\n",
       "<table border=\"1\" class=\"dataframe\">\n",
       "  <thead>\n",
       "    <tr style=\"text-align: right;\">\n",
       "      <th></th>\n",
       "      <th>name</th>\n",
       "      <th>total_points</th>\n",
       "      <th>price</th>\n",
       "      <th>position</th>\n",
       "      <th>team</th>\n",
       "      <th>unique_id</th>\n",
       "    </tr>\n",
       "  </thead>\n",
       "  <tbody>\n",
       "    <tr>\n",
       "      <th>0</th>\n",
       "      <td>David_Ospina</td>\n",
       "      <td>0</td>\n",
       "      <td>5.0</td>\n",
       "      <td>1</td>\n",
       "      <td>1</td>\n",
       "      <td>1</td>\n",
       "    </tr>\n",
       "    <tr>\n",
       "      <th>1</th>\n",
       "      <td>Petr_Cech</td>\n",
       "      <td>6</td>\n",
       "      <td>5.5</td>\n",
       "      <td>1</td>\n",
       "      <td>1</td>\n",
       "      <td>2</td>\n",
       "    </tr>\n",
       "    <tr>\n",
       "      <th>2</th>\n",
       "      <td>Laurent_Koscielny</td>\n",
       "      <td>7</td>\n",
       "      <td>6.0</td>\n",
       "      <td>2</td>\n",
       "      <td>1</td>\n",
       "      <td>3</td>\n",
       "    </tr>\n",
       "    <tr>\n",
       "      <th>3</th>\n",
       "      <td>Per_Mertesacker</td>\n",
       "      <td>0</td>\n",
       "      <td>5.0</td>\n",
       "      <td>2</td>\n",
       "      <td>1</td>\n",
       "      <td>4</td>\n",
       "    </tr>\n",
       "    <tr>\n",
       "      <th>4</th>\n",
       "      <td>Gabriel Armando_de Abreu</td>\n",
       "      <td>0</td>\n",
       "      <td>5.0</td>\n",
       "      <td>2</td>\n",
       "      <td>1</td>\n",
       "      <td>5</td>\n",
       "    </tr>\n",
       "    <tr>\n",
       "      <th>...</th>\n",
       "      <td>...</td>\n",
       "      <td>...</td>\n",
       "      <td>...</td>\n",
       "      <td>...</td>\n",
       "      <td>...</td>\n",
       "      <td>...</td>\n",
       "    </tr>\n",
       "    <tr>\n",
       "      <th>532</th>\n",
       "      <td>Steven_Pienaar</td>\n",
       "      <td>1</td>\n",
       "      <td>5.0</td>\n",
       "      <td>3</td>\n",
       "      <td>15</td>\n",
       "      <td>533</td>\n",
       "    </tr>\n",
       "    <tr>\n",
       "      <th>533</th>\n",
       "      <td>Reece_Burke</td>\n",
       "      <td>0</td>\n",
       "      <td>4.0</td>\n",
       "      <td>2</td>\n",
       "      <td>20</td>\n",
       "      <td>534</td>\n",
       "    </tr>\n",
       "    <tr>\n",
       "      <th>534</th>\n",
       "      <td>Ashley_Fletcher</td>\n",
       "      <td>1</td>\n",
       "      <td>5.0</td>\n",
       "      <td>4</td>\n",
       "      <td>20</td>\n",
       "      <td>535</td>\n",
       "    </tr>\n",
       "    <tr>\n",
       "      <th>535</th>\n",
       "      <td>Ryan_Fraser</td>\n",
       "      <td>2</td>\n",
       "      <td>5.0</td>\n",
       "      <td>3</td>\n",
       "      <td>2</td>\n",
       "      <td>536</td>\n",
       "    </tr>\n",
       "    <tr>\n",
       "      <th>536</th>\n",
       "      <td>Thomas_Robson</td>\n",
       "      <td>0</td>\n",
       "      <td>4.0</td>\n",
       "      <td>2</td>\n",
       "      <td>15</td>\n",
       "      <td>537</td>\n",
       "    </tr>\n",
       "  </tbody>\n",
       "</table>\n",
       "<p>537 rows × 6 columns</p>\n",
       "</div>"
      ],
      "text/plain": [
       "                         name  total_points  price  position  team  unique_id\n",
       "0                David_Ospina             0    5.0         1     1          1\n",
       "1                   Petr_Cech             6    5.5         1     1          2\n",
       "2           Laurent_Koscielny             7    6.0         2     1          3\n",
       "3             Per_Mertesacker             0    5.0         2     1          4\n",
       "4    Gabriel Armando_de Abreu             0    5.0         2     1          5\n",
       "..                        ...           ...    ...       ...   ...        ...\n",
       "532            Steven_Pienaar             1    5.0         3    15        533\n",
       "533               Reece_Burke             0    4.0         2    20        534\n",
       "534           Ashley_Fletcher             1    5.0         4    20        535\n",
       "535               Ryan_Fraser             2    5.0         3     2        536\n",
       "536             Thomas_Robson             0    4.0         2    15        537\n",
       "\n",
       "[537 rows x 6 columns]"
      ]
     },
     "execution_count": 20,
     "metadata": {},
     "output_type": "execute_result"
    }
   ],
   "source": [
    "import pandas as pd\n",
    "\n",
    "def data(gw):\n",
    "\n",
    "    gw = pd.read_csv('gws/gw' + str(gw) + '.csv', encoding='latin1').sort_values(by = 'element').reset_index(drop=True).reindex() # Load gameweek data\n",
    "    pos_data = pd.read_csv('players_raw.csv', encoding='latin1').rename(columns={'id': 'element'}) # Load position data\n",
    "    gw = pd.merge(gw, pos_data[['element', 'element_type','team']], on=['element'], how='left') # Extract Important Columns from Position data and Merge dataframes\n",
    "    gw = gw[['name','total_points','value','element_type','team','element']].rename(columns={'value':'price', 'element_type':'position', 'element':'unique_id'}) # Extract the important columns\n",
    "    gw['price'] = gw['price'] / 10.0 # Divide the price by ten to fit into the £100 million constraint\n",
    "    return gw\n",
    "\n",
    "data(2)"
   ]
  },
  {
   "attachments": {},
   "cell_type": "markdown",
   "metadata": {},
   "source": [
    "This is the dataset for the fourth gameweek of the 2016-2017 FPL season. In the first column, we have a list of all the players that are in the game. The second column includes the total number of points that the player has scored in this gameweek. For example, the player Petr Cech scored a total of 6 points in this gameweek. We can see that there are a lot of players that have zero points for the gameweek. Most of the time, this is because they were unused substitutes. The third column is the price of buying the player in this gameweek. This is a very important column, because prices of players fluctuate during the season depending on their performance. For example, a player may start off by costing £5.0 million, but due to great performances may end the season costing £6.2 million. It is critical that we keep track of how the prices of players change, because this can affect how we choose our optimal team according to our price constraint. The position column is encoded so that '1's are goalkeepers, '2's are defenders, '3's are midfielders, and '4's are forwards. The team column is also encoded for each of the 20 teams in the Premier League. For this project, the team names are not important, we just need to ensure that we do not have more than three players from any one team. The unique ID column is also critical to our analysis, as it assigns a number to each player, and we can use this to compare a player's performance across multiple gameweeks."
   ]
  },
  {
   "attachments": {},
   "cell_type": "markdown",
   "metadata": {},
   "source": [
    "## Methods\n",
    "\n",
    "For this project, we will be using three classes. The team of the week (totw) class helps us find the players that score the highest number of points in a given gameweek. The team of the year (toty) class helps us find the players that cumulatively score the highest number of points in a range of gameweeks. The evaulate class helps us evaluate the number of points achieved in a season, given a list of players for every gameweek. Here is a list of the classes:\n",
    "\n",
    "## Analysis\n",
    "\n",
    "## Results\n",
    "\n",
    "## Conclusions"
   ]
  },
  {
   "cell_type": "code",
   "execution_count": 1,
   "metadata": {},
   "outputs": [],
   "source": [
    "from totw import totw\n",
    "from toty import toty\n",
    "from evaluate import evaluate"
   ]
  },
  {
   "attachments": {},
   "cell_type": "markdown",
   "metadata": {},
   "source": [
    "Let us take a closer look at the team of the week function, by looking at the first team of the week:"
   ]
  },
  {
   "cell_type": "code",
   "execution_count": 2,
   "metadata": {},
   "outputs": [
    {
     "name": "stdout",
     "output_type": "stream",
     "text": [
      "Week One Team of the Week:\n",
      "['Ben_Foster', 'James_Collins', 'Stephen_Kingsley', 'Gareth_McAuley', 'Philippe_Coutinho', 'Anthony_Martial', 'Leroy_Fer', 'Adam_Lallana', 'Eden_Hazard', 'Álvaro_Negredo', 'Sergio_Agüero']\n"
     ]
    }
   ],
   "source": [
    "team_of_the_week_one = totw(1)\n",
    "print(\"Week One Team of the Week:\")\n",
    "print(team_of_the_week_one.find_names())"
   ]
  },
  {
   "attachments": {},
   "cell_type": "markdown",
   "metadata": {},
   "source": [
    "From the result of the previous cell, we have found the names of the eleven highest scoring players in the first gameweek of the season. These players were able to achieve high scores by either scoring goals, giving assists, keeping clean sheets, or making saves. We can get a more accurate look of how well they did by extracting the number of points they each achieved:"
   ]
  },
  {
   "cell_type": "code",
   "execution_count": 3,
   "metadata": {},
   "outputs": [
    {
     "name": "stdout",
     "output_type": "stream",
     "text": [
      "Ben_Foster : 10\n",
      "James_Collins : 8\n",
      "Stephen_Kingsley : 8\n",
      "Gareth_McAuley : 7\n",
      "Philippe_Coutinho : 15\n",
      "Anthony_Martial : 11\n",
      "Leroy_Fer : 11\n",
      "Adam_Lallana : 11\n",
      "Eden_Hazard : 10\n",
      "Álvaro_Negredo : 9\n",
      "Sergio_Agüero : 9\n",
      "\n",
      "The First Team of the Week achieved 109 points in total.\n"
     ]
    }
   ],
   "source": [
    "for x, y, in zip(team_of_the_week_one.find_names(), team_of_the_week_one.find_points()):\n",
    "    print(x, \":\", y)\n",
    "print(\"\")\n",
    "print(\"The First Team of the Week achieved\", sum(team_of_the_week_one.find_points()), \"points in total.\")"
   ]
  },
  {
   "attachments": {},
   "cell_type": "markdown",
   "metadata": {},
   "source": [
    "We can see from above that Philippe Coutinho was the highest scoring player of the first gameweek, with a whopping 15 points! There were a lot of points scored in this gameweek. How many points would we achieve if we find the sum of all the points achieved in each gameweek? Let's find out."
   ]
  },
  {
   "cell_type": "code",
   "execution_count": 4,
   "metadata": {},
   "outputs": [
    {
     "name": "stdout",
     "output_type": "stream",
     "text": [
      "Cumulative number of points from the 38 gameweeks: 5127\n"
     ]
    }
   ],
   "source": [
    "total_points = 0\n",
    "for k in range(1,39):\n",
    "    total_points += sum(totw(k).find_points())\n",
    "print(\"Cumulative number of points from the 38 gameweeks:\", total_points)"
   ]
  },
  {
   "attachments": {},
   "cell_type": "markdown",
   "metadata": {},
   "source": [
    "So that's it. If we play optimally, we get 5127 points!\n",
    "\n",
    "Not so fast... This is not the optimal team, because it does not take into account many of the constraints. The position constraint is not satisfied, because we only picked the starting XI, and not the substitutes. The price constraint is not satisfied, because we did not look at prices when we picked the team of the week. The transfer constraint is not satisfied, because we did not take any points away for having an ever-changing team. The team constraint is not satisfied, because we are allowed to have more than three players from any team. In fact, the only constraint that we have satisfied is the formation constraint! Not to mention, we still have to add each of the bonus rules to our points total.\n",
    "\n",
    "The following method finds the total that satisfies all of the constraints (except the transfer constraint) by adding **constraints=True** in the argument. Let's see how the points total is affected."
   ]
  },
  {
   "cell_type": "code",
   "execution_count": 5,
   "metadata": {},
   "outputs": [
    {
     "name": "stdout",
     "output_type": "stream",
     "text": [
      "Cumulative number of points from the 38 gameweeks with constraints: 5116\n"
     ]
    }
   ],
   "source": [
    "total_points = 0\n",
    "for k in range(1,39):\n",
    "    total_points += sum(totw(k,constraints=True).find_points())\n",
    "print(\"Cumulative number of points from the 38 gameweeks with constraints:\", total_points)"
   ]
  },
  {
   "attachments": {},
   "cell_type": "markdown",
   "metadata": {},
   "source": [
    "Not too bad! 5116 points from the 38 gameweeks seems to be a pretty good initial score. However, there are a lot of other aspects to consider before making assumptions.\n",
    "\n",
    "We took a look at finding each of the teams of the week and adding the values together. Let's instead take a look at the team of the year, which is a team including the highest scoring players over the course of a season."
   ]
  },
  {
   "cell_type": "code",
   "execution_count": 6,
   "metadata": {},
   "outputs": [
    {
     "name": "stdout",
     "output_type": "stream",
     "text": [
      "Team of the Year:\n",
      "['Tom_Heaton', 'Gary_Cahill', 'Marcos_Alonso', 'César_Azpilicueta', 'Alexis_Sánchez', 'Bamidele_Alli', 'Eden_Hazard', 'Christian_Eriksen', 'Kevin_De Bruyne', 'Harry_Kane', 'Romelu_Lukaku']\n"
     ]
    }
   ],
   "source": [
    "team_of_the_year = toty(1,38)\n",
    "team_of_the_year.find_toty()\n",
    "print(\"Team of the Year:\")\n",
    "print(team_of_the_year.find_names())"
   ]
  },
  {
   "attachments": {},
   "cell_type": "markdown",
   "metadata": {},
   "source": [
    "From the result of the previous cell, we have found the names of the eleven highest scoring players in the entire season. These players were able to achieve high scores by either scoring goals, giving assists, keeping clean sheets, and/or making saves. We can get a more accurate look of how well they did by extracting the number of points they each achieved:"
   ]
  },
  {
   "cell_type": "code",
   "execution_count": 7,
   "metadata": {},
   "outputs": [
    {
     "name": "stdout",
     "output_type": "stream",
     "text": [
      "Tom_Heaton : 149\n",
      "Gary_Cahill : 178\n",
      "Marcos_Alonso : 177\n",
      "César_Azpilicueta : 170\n",
      "Alexis_Sánchez : 264\n",
      "Bamidele_Alli : 225\n",
      "Eden_Hazard : 224\n",
      "Christian_Eriksen : 218\n",
      "Kevin_De Bruyne : 199\n",
      "Harry_Kane : 224\n",
      "Romelu_Lukaku : 221\n",
      "\n",
      "The Team of the Year achieved 2249 points in total.\n"
     ]
    }
   ],
   "source": [
    "for x, y, in zip(team_of_the_year.find_names(), team_of_the_year.find_points()):\n",
    "    print(x, \":\", y)\n",
    "print(\"\")\n",
    "print(\"The Team of the Year achieved\", sum(team_of_the_year.find_points()), \"points in total.\")"
   ]
  },
  {
   "attachments": {},
   "cell_type": "markdown",
   "metadata": {},
   "source": [
    "Wow! Those are some very high points totals for these players. However, we still have not satisfied most of the constraints that we should abide by. This will likely decrease our points total. By taking into account all of the team-buidling constraints, we can find a more optimal team of the year. This is done by adding **constraints=True** in the arguments. Let's take a look:"
   ]
  },
  {
   "cell_type": "code",
   "execution_count": 8,
   "metadata": {},
   "outputs": [
    {
     "name": "stdout",
     "output_type": "stream",
     "text": [
      "Tom_Heaton : 149\n",
      "Gary_Cahill : 178\n",
      "Leighton_Baines : 135\n",
      "Charlie_Daniels : 134\n",
      "Alexis_Sánchez : 264\n",
      "Bamidele_Alli : 225\n",
      "Eden_Hazard : 224\n",
      "Christian_Eriksen : 218\n",
      "Etienne_Capoue : 131\n",
      "Harry_Kane : 224\n",
      "Romelu_Lukaku : 221\n",
      "\n",
      "The Team of the Year achieved 2103 points in total.\n"
     ]
    }
   ],
   "source": [
    "toty_with_constraints = toty(1,38,constraints=True)\n",
    "toty_with_constraints.find_toty()\n",
    "for x, y, in zip(toty_with_constraints.find_names(), toty_with_constraints.find_points()):\n",
    "    print(x, \":\", y)\n",
    "print(\"\")\n",
    "print(\"The Team of the Year achieved\", sum(toty_with_constraints.find_points()), \"points in total.\")"
   ]
  },
  {
   "attachments": {},
   "cell_type": "markdown",
   "metadata": {},
   "source": [
    "That is quite a large decrease in the number of points when we took into account the constraints. But how would we fare if we take into account the transfer constraint and the extra rules. Let's see:"
   ]
  },
  {
   "cell_type": "code",
   "execution_count": 9,
   "metadata": {},
   "outputs": [
    {
     "name": "stdout",
     "output_type": "stream",
     "text": [
      "The Triple Captain Chip will be played in Gameweek 37 where the player Harry_Kane scored 31 points\n",
      "The First Wilcard Chip will be played in Gameweek 2\n",
      "The Second Wildcard Chip will be played in Gameweek 20\n",
      "The Bench Boost Chip will be played in Gameweek 1 earning an extra 0 points\n",
      "The Free Hit Chip will be played in Gameweek 36 earning an extra 115 points\n",
      "\n",
      "The Team of the Year will achieve 2807 points.\n"
     ]
    }
   ],
   "source": [
    "toty_starting, toty_subs = [], []\n",
    "for k in range(0,38):\n",
    "    toty_starting.append(toty_with_constraints.find_elements())\n",
    "    toty_subs.append(toty_with_constraints.find_subs())\n",
    "toty_evaluation = evaluate(toty_starting, toty_subs)\n",
    "print(\"\\nThe Team of the Year will achieve\", toty_evaluation.total_points(), \"points.\")"
   ]
  },
  {
   "attachments": {},
   "cell_type": "markdown",
   "metadata": {},
   "source": [
    "That's a lot of points! 2562 will be the most points that we have achieved so far, but let's take a look at how the team of the week will do in the team of the year."
   ]
  },
  {
   "cell_type": "code",
   "execution_count": 11,
   "metadata": {},
   "outputs": [
    {
     "name": "stdout",
     "output_type": "stream",
     "text": [
      "The Triple Captain Chip will be played in Gameweek 37 where the player Harry_Kane scored 31 points\n",
      "The First Wilcard Chip will be played in Gameweek 3\n",
      "The Second Wildcard Chip will be played in Gameweek 25\n",
      "The Bench Boost Chip will be played in Gameweek 11 earning an extra 6 points\n",
      "The Free Hit Chip will be played in Gameweek 1 earning an extra 0 points\n",
      "\n",
      "The Team of the Week will achieve 4124 points.\n"
     ]
    }
   ],
   "source": [
    "totw_starting, totw_subs = [], []\n",
    "for k in range(1,39):\n",
    "    totw_starting.append(totw(k,True).find_elements())\n",
    "    totw_subs.append(totw(k,True).find_subs())\n",
    "totw_evaluation = evaluate(totw_starting, totw_subs)\n",
    "print(\"\\nThe Team of the Week will achieve\", totw_evaluation.total_points(), \"points.\")"
   ]
  },
  {
   "attachments": {},
   "cell_type": "markdown",
   "metadata": {},
   "source": [
    "Wow! Even more points. This will be our baseline. Let's see if we can find a better value..."
   ]
  },
  {
   "cell_type": "code",
   "execution_count": 12,
   "metadata": {},
   "outputs": [
    {
     "name": "stdout",
     "output_type": "stream",
     "text": [
      "The Triple Captain Chip will be played in Gameweek 37 where the player Harry_Kane scored 31 points\n",
      "The First Wilcard Chip will be played in Gameweek 3\n",
      "The Second Wildcard Chip will be played in Gameweek 21\n",
      "The Bench Boost Chip will be played in Gameweek 37 earning an extra 3 points\n",
      "The Free Hit Chip will be played in Gameweek 28 earning an extra 62 points\n",
      "3991\n"
     ]
    }
   ],
   "source": [
    "list3 = []\n",
    "list4 = []\n",
    "for k in range(1,20):\n",
    "    r = toty(2*k-1,2*k,True)\n",
    "    r.find_toty()\n",
    "    list3.append(r.find_elements())\n",
    "    list3.append(r.find_elements())\n",
    "    list4.append(r.find_subs())\n",
    "    list4.append(r.find_subs())\n",
    "n = evaluate(list3, list4)\n",
    "print(n.total_points())"
   ]
  },
  {
   "cell_type": "code",
   "execution_count": 14,
   "metadata": {},
   "outputs": [
    {
     "name": "stdout",
     "output_type": "stream",
     "text": [
      "The Triple Captain Chip will be played in Gameweek 37 where the player Harry_Kane scored 31 points\n",
      "The First Wilcard Chip will be played in Gameweek 3\n",
      "The Second Wildcard Chip will be played in Gameweek 21\n",
      "The Bench Boost Chip will be played in Gameweek 37 earning an extra 3 points\n",
      "The Free Hit Chip will be played in Gameweek 9 earning an extra 61 points\n"
     ]
    },
    {
     "data": {
      "text/plain": [
       "4017"
      ]
     },
     "execution_count": 14,
     "metadata": {},
     "output_type": "execute_result"
    }
   ],
   "source": [
    "n = evaluate(list3, list4)\n",
    "n.total_points()"
   ]
  },
  {
   "cell_type": "code",
   "execution_count": null,
   "metadata": {},
   "outputs": [],
   "source": []
  }
 ],
 "metadata": {
  "kernelspec": {
   "display_name": "Python 3",
   "language": "python",
   "name": "python3"
  },
  "language_info": {
   "codemirror_mode": {
    "name": "ipython",
    "version": 3
   },
   "file_extension": ".py",
   "mimetype": "text/x-python",
   "name": "python",
   "nbconvert_exporter": "python",
   "pygments_lexer": "ipython3",
   "version": "3.9.13"
  },
  "orig_nbformat": 4,
  "vscode": {
   "interpreter": {
    "hash": "8d8661886f52393d2ad4270a014077d7ac1697c9a7b505fb901aa3d69268ec81"
   }
  }
 },
 "nbformat": 4,
 "nbformat_minor": 2
}
