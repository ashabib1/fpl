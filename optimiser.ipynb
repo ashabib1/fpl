{
 "cells": [
  {
   "attachments": {},
   "cell_type": "markdown",
   "metadata": {},
   "source": [
    "# FPL Project\n",
    "\n",
    "## Introduction to Fantasy Premier League\n",
    "\n",
    "Fantasy Premier League (FPL) is an online strategy game that casts the player in the role of a Fantasy manager. Each manager assembles a virtual team of real-life football players in the English Premier League (EPL) and score points based on their performance in their Premier League matches. The goal for each manager in FPL is to maximise their points by the end of the season.\n",
    "\n",
    "At the beginning of the season, managers are allocated a budget of £100 million to build their team of 15 players. Prices are assigned at the beginning of the season, then they fluctuate throughout the season based on their performance.\n",
    "\n",
    "Points for awarded to players for goals, assists, saves, clean sheets as well as bonus points, which are awarded to the top-performing individuals in a match. Points can also be taken away for yellow cards, red cards and goals conceded. A team's points for the match round or \"gameweek\" will be scored by the starting XI.\n",
    "\n",
    "## Project Goal & Constraints\n",
    "\n",
    "The FPL game can be considered an optimisation problem, because we are attempting to maximise the total number of points of our squad in a one-season time period with a multitude of different constraints. The goal of this project is to find the highest scoring team over a sesason given the FPL constraints. There are many constraints, including:\n",
    "\n",
    "1. Team Selection Constraint: Each manager must select a team of 15 players, consisting of 2 goalkeepers, 5 defenders, 5 midfielders, and 3 forwards.\n",
    "\n",
    "2. Price Constraint: The total price of the 15 players cannot exceed £100 million at the beginning of the season.\n",
    "\n",
    "3. Formation Constraint: Each starting XI of each team must play with a formation of 1 goalkeeper, 3-5 defeneders, 2-5 midfielders, and 1-3 forwards. The remaining four players would be on the bench, but the chosen formation can change before each gameweek.\n",
    "\n",
    "4. Transfer Constraint: Each manager is allowed one free transfer per week. Any subsequent transfers results in a four-point deduction for that gameweek. A manager can transfer or \"exchange\" any of their players for a different player, given that the price constraint still holds.\n",
    "\n",
    "5. Team Constraint: Each manager can have a maximum of three players from one team at the beginning of a gameweek.\n",
    "\n",
    "## Extra Rules\n",
    "\n",
    "There are some extra rules in FPL that can help maximize the points total. These include:\n",
    "\n",
    "1. Captaincy: One player every week can be named captain. Their points are doubled for that gameweek.\n",
    "\n",
    "2. Bench Boost Chip: The points scored by the bench players in the next gameweek are included in the points total.\n",
    "\n",
    "3. Free Hit Chip: Make unlimited free transfers for a single gameweek. At the next deadline, the squad is returned to how it was at the start of the gameweek.\n",
    "\n",
    "4. Triple Captain Chip: The captain points are tripled instead of doubled for that gameweek.\n",
    "\n",
    "5. Wildcard: All transfers in the gameweek are free of charge. Each manager gets two wildcards; one in the first half of the season and one in the second half of the season."
   ]
  },
  {
   "cell_type": "markdown",
   "metadata": {},
   "source": []
  }
 ],
 "metadata": {
  "kernelspec": {
   "display_name": "Python 3",
   "language": "python",
   "name": "python3"
  },
  "language_info": {
   "codemirror_mode": {
    "name": "ipython",
    "version": 3
   },
   "file_extension": ".py",
   "mimetype": "text/x-python",
   "name": "python",
   "nbconvert_exporter": "python",
   "pygments_lexer": "ipython3",
   "version": "3.9.13"
  },
  "orig_nbformat": 4,
  "vscode": {
   "interpreter": {
    "hash": "8d8661886f52393d2ad4270a014077d7ac1697c9a7b505fb901aa3d69268ec81"
   }
  }
 },
 "nbformat": 4,
 "nbformat_minor": 2
}
