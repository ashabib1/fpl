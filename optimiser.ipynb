{
 "cells": [
  {
   "attachments": {},
   "cell_type": "markdown",
   "metadata": {},
   "source": [
    "# FPL Project\n",
    "\n",
    "## Introduction to the English Premier League\n",
    "\n",
    "The English Premier League (EPL) is ...\n",
    "\n",
    "## Introduction to Fantasy Premier League\n",
    "\n",
    "Fantasy Premier League (FPL) is an online strategy game that casts the player in the role of a Fantasy manager. Each manager assembles a virtual team of real-life football players in the English Premier League and score points based on their real-life performance in their Premier League matches. The goal for each manager in FPL is to maximise their points by the end of the season.\n",
    "\n",
    "At the beginning of the season, managers are allocated a budget of £100 million to build their team of 15 players. Prices of players are assigned at the beginning of the season, then they fluctuate throughout the season based on their performance.\n",
    "\n",
    "Points are awarded to players for goals, assists, saves, clean sheets as well as bonus points, which are awarded to the top-performing individuals in a match. Points can also be taken away for yellow cards, red cards and goals conceded. A team's points for the match round or \"gameweek\" will be scored by the starting XI. There are 38 gameweeks every season; one for each match.\n",
    "\n",
    "## Project Goal & Constraints\n",
    "\n",
    "FPL is a popular game amongst fans of the English Premier League, as Fantasy managers attempt to build the optimal combination of players every gameweek. Fantasy managers can only guess the optimal combination of players, because they must pick their teams before any real-life Premier League games occur. In other words, there is *uncertainty* regarding which players will perform the best. For this project, we will be removing this uncertainty by using the FPL dataset of the 2016-2017 season, which has already recorded the highest performing players for every gameweek.\n",
    "\n",
    "This project is considered to be an optimisation problem, because we are attempting to maximise the total number of points of our team in the 2016-2017 season, whilst adhering to a multitude of different constraints.  There are many constraints that we must consider, which are:\n",
    "\n",
    "1. Position Constraint: Each manager must select a team of 15 players, consisting of 2 goalkeepers, 5 defenders, 5 midfielders, and 3 forwards.\n",
    "\n",
    "2. Price Constraint: The total price of the 15 players cannot exceed £100 million at the beginning of the season.\n",
    "\n",
    "3. Formation Constraint: The starting XI of each team must play with a formation of 1 goalkeeper, 3-5 defeneders, 2-5 midfielders, and 1-3 forwards. The remaining four players would be on the bench, but the chosen formation can change before each gameweek.\n",
    "\n",
    "4. Team Constraint: Each manager can have a maximum of three players from the same Premier League team at any point in the season.\n",
    "\n",
    "5. Transfer Constraint: Each manager is allowed one free transfer per week. Any subsequent transfers results in a four-point deduction for that gameweek. A manager can transfer or \"exchange\" any of their players for a different player, given that the price constraint still holds.\n",
    "\n",
    "These constraints will make the calculation of the optimal team more difficult, as we cannot just pick the highest-scroing players from each gameweek. We can classify these constraints into \"team-building constraints\" and the \"team-evaluating constraint\". The first four of these constraints interfere with the building of the team, in the sense that the team would be invalid of they are not satisfied. The last constraint, the transfer constraint is considered a \"team-evaluating constraint\" because it does not interfere with the building of the team. Having more transfers does not invalidate a team, but rather \"punishes\" teams for transfering more players by decreasing the total number of points\n",
    "\n",
    "## Extra Rules\n",
    "\n",
    "There are some extra rules in FPL that can help managers increase their points total. Captaincy should be assigned every week and the Wildcard can be used twice a week. The three chips can only be used in a single gameweek. Here are some more in depth descriptions of the rules:\n",
    "\n",
    "1. Captaincy: One player every week can be named captain. Their points are doubled for that gameweek.\n",
    "\n",
    "2. Bench Boost Chip: The points scored by the bench players in the next gameweek are included in the points total.\n",
    "\n",
    "3. Free Hit Chip: Make unlimited free transfers for a single gameweek. At the next deadline, the squad is returned to how it was at the start of the gameweek.\n",
    "\n",
    "4. Triple Captain Chip: The captain points are tripled instead of doubled for that gameweek.\n",
    "\n",
    "5. Wildcard: All transfers in the gameweek are free of charge. Each manager gets two wildcards; one in the first half of the season and one in the second half of the season.\n",
    "\n",
    "For this project, we will be using three classes. The team of the week (totw) class helps us find the players that score the highest number of points in a given gameweek. The team of the year (toty) class helps us find the players that cumulatively score the highest number of points in a range of gameweeks. The evaulate class helps us evaluate the number of points achieved in a season, given a list of players for every gameweek. Here is a list of the classes:"
   ]
  },
  {
   "cell_type": "code",
   "execution_count": 2,
   "metadata": {},
   "outputs": [],
   "source": [
    "from totw import totw\n",
    "from toty import toty\n",
    "from evaluate import evaluate"
   ]
  },
  {
   "attachments": {},
   "cell_type": "markdown",
   "metadata": {},
   "source": [
    "Let us take a closer look at the team of the week function, by looking at the first team of the week:"
   ]
  },
  {
   "cell_type": "code",
   "execution_count": 12,
   "metadata": {},
   "outputs": [
    {
     "name": "stdout",
     "output_type": "stream",
     "text": [
      "Week One Team of the Week:\n",
      "['Ben_Foster', 'James_Collins', 'Stephen_Kingsley', 'Gareth_McAuley', 'Philippe_Coutinho', 'Anthony_Martial', 'Leroy_Fer', 'Adam_Lallana', 'Eden_Hazard', 'Álvaro_Negredo', 'Sergio_Agüero']\n"
     ]
    }
   ],
   "source": [
    "team_of_the_week_one = totw(1)\n",
    "print(\"Week One Team of the Week:\")\n",
    "print(team_of_the_week_one.extract_names())"
   ]
  },
  {
   "attachments": {},
   "cell_type": "markdown",
   "metadata": {},
   "source": [
    "From the result of the previous cell, we have found the names of the eleven highest scoring players in the first gameweek of the season. These players were able to achieve high scores by either scoring goals, giving assists, keeping clean sheets, or making saves. We can get a more accurate look of how well they did by extracting the number of points they each achieved:"
   ]
  },
  {
   "cell_type": "code",
   "execution_count": 32,
   "metadata": {},
   "outputs": [
    {
     "name": "stdout",
     "output_type": "stream",
     "text": [
      "Ben_Foster : 10\n",
      "James_Collins : 8\n",
      "Stephen_Kingsley : 8\n",
      "Gareth_McAuley : 7\n",
      "Philippe_Coutinho : 15\n",
      "Anthony_Martial : 11\n",
      "Leroy_Fer : 11\n",
      "Adam_Lallana : 11\n",
      "Eden_Hazard : 10\n",
      "Álvaro_Negredo : 9\n",
      "Sergio_Agüero : 9\n",
      "\n",
      "The First Team of the Week achieved 109 points in total.\n"
     ]
    }
   ],
   "source": [
    "for x, y, in zip(team_of_the_week_one.extract_names(), team_of_the_week_one.extract_points()):\n",
    "    print(x, \":\", y)\n",
    "print(\"\")\n",
    "print(\"The First Team of the Week achieved\", sum(team_of_the_week_one.extract_points()), \"points in total.\")"
   ]
  },
  {
   "attachments": {},
   "cell_type": "markdown",
   "metadata": {},
   "source": [
    "We can see from above that Philippe Coutinho was the highest scoring player of the first gameweek, with a whopping 15 points! There were a lot of points scored in this gameweek. How many points would we achieve if we find the sum of all the points achieved in each gameweek? Let's find out."
   ]
  },
  {
   "cell_type": "code",
   "execution_count": 24,
   "metadata": {},
   "outputs": [
    {
     "name": "stdout",
     "output_type": "stream",
     "text": [
      "Cumulative number of points from the 38 gameweeks: 5127\n"
     ]
    }
   ],
   "source": [
    "total_points = 0\n",
    "for k in range(1,39):\n",
    "    total_points += sum(totw(k).extract_points())\n",
    "print(\"Cumulative number of points from the 38 gameweeks:\", total_points)"
   ]
  },
  {
   "attachments": {},
   "cell_type": "markdown",
   "metadata": {},
   "source": [
    "So that's it. If we play optimally, we get 5127 points!\n",
    "\n",
    "Not so fast... This is not the optimal team, because it does not take into account many of the constraints. The position constraint is not satisfied, because we only picked the starting XI, and not the substitutes. The price constraint is not satisfied, because we did not look at prices when we picked the team of the week. The transfer constraint is not satisfied, because we did not take any points away for having an ever-changing team. The team constraint is not satisfied, because we are allowed to have more than three players from any team. In fact, the only constraint that we have satisfied is the formation constraint! Not to mention, we still have to add each of the bonus rules to our points total.\n",
    "\n",
    "The following method finds the total that satisfies all of the constraints (except the transfer constraint) by adding **constraints=True** in the argument. Let's see how the points total is affected."
   ]
  },
  {
   "cell_type": "code",
   "execution_count": 26,
   "metadata": {},
   "outputs": [
    {
     "name": "stdout",
     "output_type": "stream",
     "text": [
      "Cumulative number of points from the 38 gameweeks with constraints: 5116\n"
     ]
    }
   ],
   "source": [
    "total_points = 0\n",
    "for k in range(1,39):\n",
    "    total_points += sum(totw(k,constraints=True).extract_points())\n",
    "print(\"Cumulative number of points from the 38 gameweeks with constraints:\", total_points)"
   ]
  },
  {
   "attachments": {},
   "cell_type": "markdown",
   "metadata": {},
   "source": [
    "Not too bad! 5116 points from the 38 gameweeks seems to be a pretty good initial score. However, there are a lot of other aspects to consider before making assumptions.\n",
    "\n",
    "We took a look at finding each of the teams of the week and adding the values together. Let's instead take a look at the team of the year, which is a team including the highest scoring players over the course of a season."
   ]
  },
  {
   "cell_type": "code",
   "execution_count": 31,
   "metadata": {},
   "outputs": [
    {
     "name": "stdout",
     "output_type": "stream",
     "text": [
      "Team of the Year:\n",
      "['Tom_Heaton', 'Gary_Cahill', 'Marcos_Alonso', 'César_Azpilicueta', 'Alexis_Sánchez', 'Bamidele_Alli', 'Eden_Hazard', 'Christian_Eriksen', 'Kevin_De Bruyne', 'Harry_Kane', 'Romelu_Lukaku']\n"
     ]
    }
   ],
   "source": [
    "team_of_the_year = toty(1,38)\n",
    "team_of_the_year.find_toty()\n",
    "print(\"Team of the Year:\")\n",
    "print(team_of_the_year.find_names())"
   ]
  },
  {
   "attachments": {},
   "cell_type": "markdown",
   "metadata": {},
   "source": [
    "From the result of the previous cell, we have found the names of the eleven highest scoring players in the entire season. These players were able to achieve high scores by either scoring goals, giving assists, keeping clean sheets, and/or making saves. We can get a more accurate look of how well they did by extracting the number of points they each achieved:"
   ]
  },
  {
   "cell_type": "code",
   "execution_count": 34,
   "metadata": {},
   "outputs": [
    {
     "name": "stdout",
     "output_type": "stream",
     "text": [
      "Tom_Heaton : 149\n",
      "Gary_Cahill : 178\n",
      "Marcos_Alonso : 177\n",
      "César_Azpilicueta : 170\n",
      "Alexis_Sánchez : 264\n",
      "Bamidele_Alli : 225\n",
      "Eden_Hazard : 224\n",
      "Christian_Eriksen : 218\n",
      "Kevin_De Bruyne : 199\n",
      "Harry_Kane : 224\n",
      "Romelu_Lukaku : 221\n",
      "\n",
      "The Team of the Year achieved 2249 points in total.\n"
     ]
    }
   ],
   "source": [
    "for x, y, in zip(team_of_the_year.find_names(), team_of_the_year.find_points()):\n",
    "    print(x, \":\", y)\n",
    "print(\"\")\n",
    "print(\"The Team of the Year achieved\", sum(team_of_the_year.find_points()), \"points in total.\")"
   ]
  },
  {
   "attachments": {},
   "cell_type": "markdown",
   "metadata": {},
   "source": [
    "Wow! Those are some very high points totals for these players. However, we still have not satisfied most of the constraints that we should abide by. This will likely decrease our points total. By taking into account all of the team-buidling constraints, we can find a more optimal team of the year. This is done by adding **constraints=True** in the arguments. Let's take a look:"
   ]
  },
  {
   "cell_type": "code",
   "execution_count": 35,
   "metadata": {},
   "outputs": [
    {
     "name": "stdout",
     "output_type": "stream",
     "text": [
      "Tom_Heaton : 149\n",
      "Gary_Cahill : 178\n",
      "Leighton_Baines : 135\n",
      "Charlie_Daniels : 134\n",
      "Alexis_Sánchez : 264\n",
      "Adam_Lallana : 139\n",
      "Darren_Fletcher : 103\n",
      "Christian_Eriksen : 218\n",
      "Emre_Can : 104\n",
      "Harry_Kane : 224\n",
      "Romelu_Lukaku : 221\n",
      "\n",
      "The Team of the Year achieved 1869 points in total.\n"
     ]
    }
   ],
   "source": [
    "toty_with_constraints = toty(1,38,constraints=True)\n",
    "toty_with_constraints.find_toty()\n",
    "for x, y, in zip(toty_with_constraints.find_names(), toty_with_constraints.find_points()):\n",
    "    print(x, \":\", y)\n",
    "print(\"\")\n",
    "print(\"The Team of the Year achieved\", sum(toty_with_constraints.find_points()), \"points in total.\")"
   ]
  },
  {
   "attachments": {},
   "cell_type": "markdown",
   "metadata": {},
   "source": [
    "That is quite a large decrease in the number of points when we took into account the constraints. But how would we fare if we take into account the transfer constraint and the extra rules. Let's see:"
   ]
  },
  {
   "cell_type": "code",
   "execution_count": 43,
   "metadata": {},
   "outputs": [
    {
     "name": "stdout",
     "output_type": "stream",
     "text": [
      "The Triple Captain Chip will be played in Gameweek 37 where the player Harry_Kane scored 31 points\n",
      "The First Wilcard Chip will be played in Gameweek 2\n",
      "The Second Wildcard Chip will be played in Gameweek 20\n",
      "The Bench Boost Chip will be played in Gameweek 1 earning an extra 0 points\n",
      "The Free Hit Chip will be played in Gameweek 36 earning an extra 116 points\n",
      "\n",
      "The Team of the Year will achieve 2562 points.\n"
     ]
    }
   ],
   "source": [
    "toty_starting, toty_subs = [], []\n",
    "for k in range(0,38):\n",
    "    toty_starting.append(toty_with_constraints.find_elements())\n",
    "    toty_subs.append(toty_with_constraints.extract_subs_elements())\n",
    "toty_evaluation = evaluate(toty_starting, toty_subs)\n",
    "print(\"\\nThe Team of the Year will achieve\", toty_evaluation.total_points(), \"points.\")"
   ]
  },
  {
   "attachments": {},
   "cell_type": "markdown",
   "metadata": {},
   "source": [
    "That's a lot of points! 2562 will be the most points that we have achieved so far, but let's take a look at how the team of the week will do in the team of the year."
   ]
  },
  {
   "cell_type": "code",
   "execution_count": 44,
   "metadata": {},
   "outputs": [
    {
     "name": "stdout",
     "output_type": "stream",
     "text": [
      "The Triple Captain Chip will be played in Gameweek 37 where the player Harry_Kane scored 31 points\n",
      "The First Wilcard Chip will be played in Gameweek 3\n",
      "The Second Wildcard Chip will be played in Gameweek 21\n",
      "The Bench Boost Chip will be played in Gameweek 11 earning an extra 6 points\n",
      "The Free Hit Chip will be played in Gameweek 1 earning an extra 0 points\n",
      "\n",
      "The Team of the Week will achieve 4504 points.\n"
     ]
    }
   ],
   "source": [
    "totw_starting, totw_subs = [], []\n",
    "for k in range(1,39):\n",
    "    totw_starting.append(totw(k,True).extract_indices())\n",
    "    totw_subs.append(totw(k,True).extract_subs())\n",
    "totw_evaluation = evaluate(totw_starting, totw_subs)\n",
    "print(\"\\nThe Team of the Week will achieve\", totw_evaluation.total_points(), \"points.\")"
   ]
  },
  {
   "attachments": {},
   "cell_type": "markdown",
   "metadata": {},
   "source": [
    "Wow! Even more points. This will be our baseline. Let's see if we can find a better value..."
   ]
  },
  {
   "cell_type": "code",
   "execution_count": 45,
   "metadata": {},
   "outputs": [
    {
     "name": "stdout",
     "output_type": "stream",
     "text": [
      "The Triple Captain Chip will be played in Gameweek 37 where the player Harry_Kane scored 31 points\n",
      "The First Wilcard Chip will be played in Gameweek 3\n",
      "The Second Wildcard Chip will be played in Gameweek 21\n",
      "The Bench Boost Chip will be played in Gameweek 37 earning an extra 3 points\n",
      "The Free Hit Chip will be played in Gameweek 28 earning an extra 62 points\n",
      "4104\n"
     ]
    }
   ],
   "source": [
    "list3 = []\n",
    "list4 = []\n",
    "for k in range(1,20):\n",
    "    r = toty(2*k-1,2*k,True)\n",
    "    r.find_toty()\n",
    "    list3.append(r.find_elements())\n",
    "    list3.append(r.find_elements())\n",
    "    list4.append(r.extract_subs_elements())\n",
    "    list4.append(r.extract_subs_elements())\n",
    "n = evaluate(list3, list4)\n",
    "print(n.total_points())"
   ]
  },
  {
   "cell_type": "code",
   "execution_count": null,
   "metadata": {},
   "outputs": [],
   "source": []
  }
 ],
 "metadata": {
  "kernelspec": {
   "display_name": "Python 3",
   "language": "python",
   "name": "python3"
  },
  "language_info": {
   "codemirror_mode": {
    "name": "ipython",
    "version": 3
   },
   "file_extension": ".py",
   "mimetype": "text/x-python",
   "name": "python",
   "nbconvert_exporter": "python",
   "pygments_lexer": "ipython3",
   "version": "3.9.13"
  },
  "orig_nbformat": 4,
  "vscode": {
   "interpreter": {
    "hash": "8d8661886f52393d2ad4270a014077d7ac1697c9a7b505fb901aa3d69268ec81"
   }
  }
 },
 "nbformat": 4,
 "nbformat_minor": 2
}
